{
  "nbformat": 4,
  "nbformat_minor": 0,
  "metadata": {
    "colab": {
      "provenance": [],
      "authorship_tag": "ABX9TyPFs8LJmV2bYt3rKTVzlipP",
      "include_colab_link": true
    },
    "kernelspec": {
      "name": "python3",
      "display_name": "Python 3"
    },
    "language_info": {
      "name": "python"
    }
  },
  "cells": [
    {
      "cell_type": "markdown",
      "metadata": {
        "id": "view-in-github",
        "colab_type": "text"
      },
      "source": [
        "<a href=\"https://colab.research.google.com/github/AshrafRafiza/spotify_recent_tracks_API/blob/main/Spotify_Recent_Tracks_API.ipynb\" target=\"_parent\"><img src=\"https://colab.research.google.com/assets/colab-badge.svg\" alt=\"Open In Colab\"/></a>"
      ]
    },
    {
      "cell_type": "code",
      "execution_count": null,
      "metadata": {
        "id": "V1eTs_sF-UJv"
      },
      "outputs": [],
      "source": [
        "import sqlalchemy\n",
        "import pandas as pd\n",
        "from sqlalchemy.orm import sessionmaker\n",
        "import requests\n",
        "import json\n",
        "from datetime import datetime\n",
        "import datetime\n",
        "import sqlite3 "
      ]
    },
    {
      "cell_type": "code",
      "source": [
        "DATABASE_LOCATION = \"sqlite:///my_played_tracks.sqlite\"\n",
        "USER_ID = \"22toqvepxwtwefbn2gcu5phxa\"\n",
        "TOKEN = \"BQBMWnfTUxiXBdopAMfHgoEDZnae-4svJhpYjWkqrj-6_WgDUWD656oC0wbFNAapGkkVMrZDnMHulzwY-cFAHOg8V2pwOJXllX-Xq0oPne9pSHWyzxOlN6ZARTkukXomw74nYLlLm6f9DTK6Yz2HqYqOdtFpNo_gs7RGQ0QWRHoBIbGuRlVDmk5MLfARpPar60fM\""
      ],
      "metadata": {
        "id": "uM67BAFa-Z4_"
      },
      "execution_count": null,
      "outputs": []
    },
    {
      "cell_type": "code",
      "source": [
        "\n",
        "headers = {\n",
        "    \"Accept\" : \"application/json\",\n",
        "    \"Content-Type\": \"application/json\",\n",
        "    \"Authorization\": \"Bearer {token}\".format(token=TOKEN)\n",
        "}\n",
        "\n",
        "today = datetime.datetime.now()\n",
        "yesterday = today - datetime.timedelta(days=1)\n",
        "yesterday_unix_timestamp = int(yesterday.timestamp()) * 1000\n",
        "\n",
        "#r = requests.get(\"https://api.spotify.com/v1/me/player/recently-played?after={time}\".format(time=yesterday_unix_timestamp), headers = headers)\n",
        "r = requests.get(\"https://api.spotify.com/v1/me/player/recently-played\", headers = headers)\n",
        "\n",
        "data = r.json()\n",
        "\n",
        "print(data)"
      ],
      "metadata": {
        "colab": {
          "base_uri": "https://localhost:8080/"
        },
        "id": "MpAsy8b7_IJO",
        "outputId": "744744af-53ed-4ba3-e36d-d0027a67bb14"
      },
      "execution_count": null,
      "outputs": [
        {
          "output_type": "stream",
          "name": "stdout",
          "text": [
            "{'items': [{'track': {'album': {'album_type': 'single', 'artists': [{'external_urls': {'spotify': 'https://open.spotify.com/artist/5pKCCKE2ajJHZ9KAiaK11H'}, 'href': 'https://api.spotify.com/v1/artists/5pKCCKE2ajJHZ9KAiaK11H', 'id': '5pKCCKE2ajJHZ9KAiaK11H', 'name': 'Rihanna', 'type': 'artist', 'uri': 'spotify:artist:5pKCCKE2ajJHZ9KAiaK11H'}], 'available_markets': ['AD', 'AE', 'AG', 'AL', 'AM', 'AO', 'AR', 'AT', 'AU', 'AZ', 'BA', 'BB', 'BD', 'BE', 'BF', 'BG', 'BH', 'BI', 'BJ', 'BN', 'BO', 'BR', 'BS', 'BT', 'BW', 'BZ', 'CA', 'CD', 'CG', 'CH', 'CI', 'CL', 'CM', 'CO', 'CR', 'CV', 'CW', 'CY', 'CZ', 'DE', 'DJ', 'DK', 'DM', 'DO', 'DZ', 'EC', 'EE', 'EG', 'ES', 'FI', 'FJ', 'FM', 'FR', 'GA', 'GB', 'GD', 'GE', 'GH', 'GM', 'GN', 'GQ', 'GR', 'GT', 'GW', 'GY', 'HK', 'HN', 'HR', 'HT', 'HU', 'ID', 'IE', 'IL', 'IN', 'IQ', 'IS', 'IT', 'JM', 'JO', 'JP', 'KE', 'KG', 'KH', 'KI', 'KM', 'KN', 'KR', 'KW', 'KZ', 'LA', 'LB', 'LC', 'LI', 'LK', 'LR', 'LS', 'LT', 'LU', 'LV', 'LY', 'MA', 'MC', 'MD', 'ME', 'MG', 'MH', 'MK', 'ML', 'MN', 'MO', 'MR', 'MT', 'MU', 'MV', 'MW', 'MX', 'MY', 'MZ', 'NA', 'NE', 'NG', 'NI', 'NL', 'NO', 'NP', 'NR', 'NZ', 'OM', 'PA', 'PE', 'PG', 'PH', 'PK', 'PL', 'PS', 'PT', 'PW', 'PY', 'QA', 'RO', 'RS', 'RW', 'SA', 'SB', 'SC', 'SE', 'SG', 'SI', 'SK', 'SL', 'SM', 'SN', 'SR', 'ST', 'SV', 'SZ', 'TD', 'TG', 'TH', 'TJ', 'TL', 'TN', 'TO', 'TR', 'TT', 'TV', 'TW', 'TZ', 'UA', 'UG', 'US', 'UY', 'UZ', 'VC', 'VE', 'VN', 'VU', 'WS', 'XK', 'ZA', 'ZM', 'ZW'], 'external_urls': {'spotify': 'https://open.spotify.com/album/3Zzv75PyROH6AMeXN1Yr1h'}, 'href': 'https://api.spotify.com/v1/albums/3Zzv75PyROH6AMeXN1Yr1h', 'id': '3Zzv75PyROH6AMeXN1Yr1h', 'images': [{'height': 640, 'url': 'https://i.scdn.co/image/ab67616d0000b273a790c56cff6e3463bf9935cb', 'width': 640}, {'height': 300, 'url': 'https://i.scdn.co/image/ab67616d00001e02a790c56cff6e3463bf9935cb', 'width': 300}, {'height': 64, 'url': 'https://i.scdn.co/image/ab67616d00004851a790c56cff6e3463bf9935cb', 'width': 64}], 'name': 'Lift Me Up (From Black Panther: Wakanda Forever - Music From and Inspired By)', 'release_date': '2022-10-28', 'release_date_precision': 'day', 'total_tracks': 2, 'type': 'album', 'uri': 'spotify:album:3Zzv75PyROH6AMeXN1Yr1h'}, 'artists': [{'external_urls': {'spotify': 'https://open.spotify.com/artist/5pKCCKE2ajJHZ9KAiaK11H'}, 'href': 'https://api.spotify.com/v1/artists/5pKCCKE2ajJHZ9KAiaK11H', 'id': '5pKCCKE2ajJHZ9KAiaK11H', 'name': 'Rihanna', 'type': 'artist', 'uri': 'spotify:artist:5pKCCKE2ajJHZ9KAiaK11H'}], 'available_markets': ['AD', 'AE', 'AG', 'AL', 'AM', 'AO', 'AR', 'AT', 'AU', 'AZ', 'BA', 'BB', 'BD', 'BE', 'BF', 'BG', 'BH', 'BI', 'BJ', 'BN', 'BO', 'BR', 'BS', 'BT', 'BW', 'BZ', 'CA', 'CD', 'CG', 'CH', 'CI', 'CL', 'CM', 'CO', 'CR', 'CV', 'CW', 'CY', 'CZ', 'DE', 'DJ', 'DK', 'DM', 'DO', 'DZ', 'EC', 'EE', 'EG', 'ES', 'FI', 'FJ', 'FM', 'FR', 'GA', 'GB', 'GD', 'GE', 'GH', 'GM', 'GN', 'GQ', 'GR', 'GT', 'GW', 'GY', 'HK', 'HN', 'HR', 'HT', 'HU', 'ID', 'IE', 'IL', 'IN', 'IQ', 'IS', 'IT', 'JM', 'JO', 'JP', 'KE', 'KG', 'KH', 'KI', 'KM', 'KN', 'KR', 'KW', 'KZ', 'LA', 'LB', 'LC', 'LI', 'LK', 'LR', 'LS', 'LT', 'LU', 'LV', 'LY', 'MA', 'MC', 'MD', 'ME', 'MG', 'MH', 'MK', 'ML', 'MN', 'MO', 'MR', 'MT', 'MU', 'MV', 'MW', 'MX', 'MY', 'MZ', 'NA', 'NE', 'NG', 'NI', 'NL', 'NO', 'NP', 'NR', 'NZ', 'OM', 'PA', 'PE', 'PG', 'PH', 'PK', 'PL', 'PS', 'PT', 'PW', 'PY', 'QA', 'RO', 'RS', 'RW', 'SA', 'SB', 'SC', 'SE', 'SG', 'SI', 'SK', 'SL', 'SM', 'SN', 'SR', 'ST', 'SV', 'SZ', 'TD', 'TG', 'TH', 'TJ', 'TL', 'TN', 'TO', 'TR', 'TT', 'TV', 'TW', 'TZ', 'UA', 'UG', 'US', 'UY', 'UZ', 'VC', 'VE', 'VN', 'VU', 'WS', 'XK', 'ZA', 'ZM', 'ZW'], 'disc_number': 1, 'duration_ms': 196519, 'explicit': False, 'external_ids': {'isrc': 'QMJMT2204481'}, 'external_urls': {'spotify': 'https://open.spotify.com/track/35ovElsgyAtQwYPYnZJECg'}, 'href': 'https://api.spotify.com/v1/tracks/35ovElsgyAtQwYPYnZJECg', 'id': '35ovElsgyAtQwYPYnZJECg', 'is_local': False, 'name': 'Lift Me Up - From Black Panther: Wakanda Forever - Music From and Inspired By', 'popularity': 87, 'preview_url': None, 'track_number': 1, 'type': 'track', 'uri': 'spotify:track:35ovElsgyAtQwYPYnZJECg'}, 'played_at': '2022-11-03T07:31:02.291Z', 'context': None}, {'track': {'album': {'album_type': 'album', 'artists': [{'external_urls': {'spotify': 'https://open.spotify.com/artist/164Uj4eKjl6zTBKfJLFKKK'}, 'href': 'https://api.spotify.com/v1/artists/164Uj4eKjl6zTBKfJLFKKK', 'id': '164Uj4eKjl6zTBKfJLFKKK', 'name': 'JVKE', 'type': 'artist', 'uri': 'spotify:artist:164Uj4eKjl6zTBKfJLFKKK'}], 'available_markets': ['AD', 'AE', 'AG', 'AL', 'AM', 'AO', 'AR', 'AT', 'AU', 'AZ', 'BA', 'BB', 'BD', 'BE', 'BF', 'BG', 'BH', 'BI', 'BJ', 'BN', 'BO', 'BR', 'BS', 'BT', 'BW', 'BY', 'BZ', 'CA', 'CD', 'CG', 'CH', 'CI', 'CL', 'CM', 'CO', 'CR', 'CV', 'CW', 'CY', 'CZ', 'DE', 'DJ', 'DK', 'DM', 'DO', 'DZ', 'EC', 'EE', 'EG', 'ES', 'FI', 'FJ', 'FM', 'FR', 'GA', 'GB', 'GD', 'GE', 'GH', 'GM', 'GN', 'GQ', 'GR', 'GT', 'GW', 'GY', 'HN', 'HR', 'HT', 'HU', 'ID', 'IE', 'IL', 'IN', 'IQ', 'IS', 'IT', 'JM', 'JO', 'JP', 'KE', 'KG', 'KH', 'KI', 'KM', 'KN', 'KR', 'KW', 'KZ', 'LA', 'LB', 'LC', 'LI', 'LK', 'LR', 'LS', 'LT', 'LU', 'LV', 'LY', 'MA', 'MC', 'MD', 'ME', 'MG', 'MH', 'MK', 'ML', 'MN', 'MR', 'MT', 'MU', 'MV', 'MW', 'MX', 'MY', 'MZ', 'NA', 'NE', 'NG', 'NI', 'NL', 'NO', 'NP', 'NR', 'NZ', 'OM', 'PA', 'PE', 'PG', 'PH', 'PK', 'PL', 'PS', 'PT', 'PW', 'PY', 'QA', 'RO', 'RS', 'RW', 'SA', 'SB', 'SC', 'SE', 'SG', 'SI', 'SK', 'SL', 'SM', 'SN', 'SR', 'ST', 'SV', 'SZ', 'TD', 'TG', 'TH', 'TJ', 'TL', 'TN', 'TO', 'TR', 'TT', 'TV', 'TZ', 'UA', 'UG', 'US', 'UY', 'UZ', 'VC', 'VE', 'VN', 'VU', 'WS', 'XK', 'ZA', 'ZM', 'ZW'], 'external_urls': {'spotify': 'https://open.spotify.com/album/69AaAkdktFGnk9POmHENkT'}, 'href': 'https://api.spotify.com/v1/albums/69AaAkdktFGnk9POmHENkT', 'id': '69AaAkdktFGnk9POmHENkT', 'images': [{'height': 640, 'url': 'https://i.scdn.co/image/ab67616d0000b273c2504e80ba2f258697ab2954', 'width': 640}, {'height': 300, 'url': 'https://i.scdn.co/image/ab67616d00001e02c2504e80ba2f258697ab2954', 'width': 300}, {'height': 64, 'url': 'https://i.scdn.co/image/ab67616d00004851c2504e80ba2f258697ab2954', 'width': 64}], 'name': 'this is what ____ feels like (Vol. 1-4)', 'release_date': '2022-09-23', 'release_date_precision': 'day', 'total_tracks': 12, 'type': 'album', 'uri': 'spotify:album:69AaAkdktFGnk9POmHENkT'}, 'artists': [{'external_urls': {'spotify': 'https://open.spotify.com/artist/164Uj4eKjl6zTBKfJLFKKK'}, 'href': 'https://api.spotify.com/v1/artists/164Uj4eKjl6zTBKfJLFKKK', 'id': '164Uj4eKjl6zTBKfJLFKKK', 'name': 'JVKE', 'type': 'artist', 'uri': 'spotify:artist:164Uj4eKjl6zTBKfJLFKKK'}], 'available_markets': ['AD', 'AE', 'AG', 'AL', 'AM', 'AO', 'AR', 'AT', 'AU', 'AZ', 'BA', 'BB', 'BD', 'BE', 'BF', 'BG', 'BH', 'BI', 'BJ', 'BN', 'BO', 'BR', 'BS', 'BT', 'BW', 'BY', 'BZ', 'CA', 'CD', 'CG', 'CH', 'CI', 'CL', 'CM', 'CO', 'CR', 'CV', 'CW', 'CY', 'CZ', 'DE', 'DJ', 'DK', 'DM', 'DO', 'DZ', 'EC', 'EE', 'EG', 'ES', 'FI', 'FJ', 'FM', 'FR', 'GA', 'GB', 'GD', 'GE', 'GH', 'GM', 'GN', 'GQ', 'GR', 'GT', 'GW', 'GY', 'HN', 'HR', 'HT', 'HU', 'ID', 'IE', 'IL', 'IN', 'IQ', 'IS', 'IT', 'JM', 'JO', 'JP', 'KE', 'KG', 'KH', 'KI', 'KM', 'KN', 'KR', 'KW', 'KZ', 'LA', 'LB', 'LC', 'LI', 'LK', 'LR', 'LS', 'LT', 'LU', 'LV', 'LY', 'MA', 'MC', 'MD', 'ME', 'MG', 'MH', 'MK', 'ML', 'MN', 'MR', 'MT', 'MU', 'MV', 'MW', 'MX', 'MY', 'MZ', 'NA', 'NE', 'NG', 'NI', 'NL', 'NO', 'NP', 'NR', 'NZ', 'OM', 'PA', 'PE', 'PG', 'PH', 'PK', 'PL', 'PS', 'PT', 'PW', 'PY', 'QA', 'RO', 'RS', 'RW', 'SA', 'SB', 'SC', 'SE', 'SG', 'SI', 'SK', 'SL', 'SM', 'SN', 'SR', 'ST', 'SV', 'SZ', 'TD', 'TG', 'TH', 'TJ', 'TL', 'TN', 'TO', 'TR', 'TT', 'TV', 'TZ', 'UA', 'UG', 'US', 'UY', 'UZ', 'VC', 'VE', 'VN', 'VU', 'WS', 'XK', 'ZA', 'ZM', 'ZW'], 'disc_number': 1, 'duration_ms': 209259, 'explicit': False, 'external_ids': {'isrc': 'GBKPL2204171'}, 'external_urls': {'spotify': 'https://open.spotify.com/track/5odlY52u43F5BjByhxg7wg'}, 'href': 'https://api.spotify.com/v1/tracks/5odlY52u43F5BjByhxg7wg', 'id': '5odlY52u43F5BjByhxg7wg', 'is_local': False, 'name': 'golden hour', 'popularity': 86, 'preview_url': 'https://p.scdn.co/mp3-preview/e3635ebe8f904dce32483b18e19b7f194ced72df?cid=774b29d4f13844c495f206cafdad9c86', 'track_number': 3, 'type': 'track', 'uri': 'spotify:track:5odlY52u43F5BjByhxg7wg'}, 'played_at': '2022-11-03T07:27:11.169Z', 'context': None}, {'track': {'album': {'album_type': 'album', 'artists': [{'external_urls': {'spotify': 'https://open.spotify.com/artist/246dkjvS1zLTtiykXe5h60'}, 'href': 'https://api.spotify.com/v1/artists/246dkjvS1zLTtiykXe5h60', 'id': '246dkjvS1zLTtiykXe5h60', 'name': 'Post Malone', 'type': 'artist', 'uri': 'spotify:artist:246dkjvS1zLTtiykXe5h60'}], 'available_markets': ['AD', 'AE', 'AG', 'AL', 'AM', 'AO', 'AR', 'AT', 'AU', 'AZ', 'BA', 'BB', 'BD', 'BE', 'BF', 'BG', 'BH', 'BI', 'BJ', 'BN', 'BO', 'BR', 'BS', 'BT', 'BW', 'BZ', 'CA', 'CD', 'CG', 'CH', 'CI', 'CL', 'CM', 'CO', 'CR', 'CV', 'CW', 'CY', 'CZ', 'DE', 'DJ', 'DK', 'DM', 'DO', 'DZ', 'EC', 'EE', 'EG', 'ES', 'FI', 'FJ', 'FM', 'FR', 'GA', 'GB', 'GD', 'GE', 'GH', 'GM', 'GN', 'GQ', 'GR', 'GT', 'GW', 'GY', 'HK', 'HN', 'HR', 'HT', 'HU', 'ID', 'IE', 'IL', 'IN', 'IQ', 'IS', 'IT', 'JM', 'JO', 'JP', 'KE', 'KG', 'KH', 'KI', 'KM', 'KN', 'KR', 'KW', 'KZ', 'LA', 'LB', 'LC', 'LI', 'LK', 'LR', 'LS', 'LT', 'LU', 'LV', 'LY', 'MA', 'MC', 'MD', 'ME', 'MG', 'MH', 'MK', 'ML', 'MN', 'MO', 'MR', 'MT', 'MU', 'MV', 'MW', 'MX', 'MY', 'MZ', 'NA', 'NE', 'NG', 'NI', 'NL', 'NO', 'NP', 'NR', 'NZ', 'OM', 'PA', 'PE', 'PG', 'PH', 'PK', 'PL', 'PS', 'PT', 'PW', 'PY', 'QA', 'RO', 'RS', 'RW', 'SA', 'SB', 'SC', 'SE', 'SG', 'SI', 'SK', 'SL', 'SM', 'SN', 'SR', 'ST', 'SV', 'SZ', 'TD', 'TG', 'TH', 'TJ', 'TL', 'TN', 'TO', 'TR', 'TT', 'TV', 'TW', 'TZ', 'UA', 'UG', 'US', 'UY', 'UZ', 'VC', 'VE', 'VN', 'VU', 'WS', 'XK', 'ZA', 'ZM', 'ZW'], 'external_urls': {'spotify': 'https://open.spotify.com/album/4g1ZRSobMefqF6nelkgibi'}, 'href': 'https://api.spotify.com/v1/albums/4g1ZRSobMefqF6nelkgibi', 'id': '4g1ZRSobMefqF6nelkgibi', 'images': [{'height': 640, 'url': 'https://i.scdn.co/image/ab67616d0000b2739478c87599550dd73bfa7e02', 'width': 640}, {'height': 300, 'url': 'https://i.scdn.co/image/ab67616d00001e029478c87599550dd73bfa7e02', 'width': 300}, {'height': 64, 'url': 'https://i.scdn.co/image/ab67616d000048519478c87599550dd73bfa7e02', 'width': 64}], 'name': \"Hollywood's Bleeding\", 'release_date': '2019-09-06', 'release_date_precision': 'day', 'total_tracks': 17, 'type': 'album', 'uri': 'spotify:album:4g1ZRSobMefqF6nelkgibi'}, 'artists': [{'external_urls': {'spotify': 'https://open.spotify.com/artist/246dkjvS1zLTtiykXe5h60'}, 'href': 'https://api.spotify.com/v1/artists/246dkjvS1zLTtiykXe5h60', 'id': '246dkjvS1zLTtiykXe5h60', 'name': 'Post Malone', 'type': 'artist', 'uri': 'spotify:artist:246dkjvS1zLTtiykXe5h60'}], 'available_markets': ['AD', 'AE', 'AG', 'AL', 'AM', 'AO', 'AR', 'AT', 'AU', 'AZ', 'BA', 'BB', 'BD', 'BE', 'BF', 'BG', 'BH', 'BI', 'BJ', 'BN', 'BO', 'BR', 'BS', 'BT', 'BW', 'BZ', 'CA', 'CD', 'CG', 'CH', 'CI', 'CL', 'CM', 'CO', 'CR', 'CV', 'CW', 'CY', 'CZ', 'DE', 'DJ', 'DK', 'DM', 'DO', 'DZ', 'EC', 'EE', 'EG', 'ES', 'FI', 'FJ', 'FM', 'FR', 'GA', 'GB', 'GD', 'GE', 'GH', 'GM', 'GN', 'GQ', 'GR', 'GT', 'GW', 'GY', 'HK', 'HN', 'HR', 'HT', 'HU', 'ID', 'IE', 'IL', 'IN', 'IQ', 'IS', 'IT', 'JM', 'JO', 'JP', 'KE', 'KG', 'KH', 'KI', 'KM', 'KN', 'KR', 'KW', 'KZ', 'LA', 'LB', 'LC', 'LI', 'LK', 'LR', 'LS', 'LT', 'LU', 'LV', 'LY', 'MA', 'MC', 'MD', 'ME', 'MG', 'MH', 'MK', 'ML', 'MN', 'MO', 'MR', 'MT', 'MU', 'MV', 'MW', 'MX', 'MY', 'MZ', 'NA', 'NE', 'NG', 'NI', 'NL', 'NO', 'NP', 'NR', 'NZ', 'OM', 'PA', 'PE', 'PG', 'PH', 'PK', 'PL', 'PS', 'PT', 'PW', 'PY', 'QA', 'RO', 'RS', 'RW', 'SA', 'SB', 'SC', 'SE', 'SG', 'SI', 'SK', 'SL', 'SM', 'SN', 'SR', 'ST', 'SV', 'SZ', 'TD', 'TG', 'TH', 'TJ', 'TL', 'TN', 'TO', 'TR', 'TT', 'TV', 'TW', 'TZ', 'UA', 'UG', 'US', 'UY', 'UZ', 'VC', 'VE', 'VN', 'VU', 'WS', 'XK', 'ZA', 'ZM', 'ZW'], 'disc_number': 1, 'duration_ms': 149546, 'explicit': True, 'external_ids': {'isrc': 'USUM71822626'}, 'external_urls': {'spotify': 'https://open.spotify.com/track/7xQAfvXzm3AkraOtGPWIZg'}, 'href': 'https://api.spotify.com/v1/tracks/7xQAfvXzm3AkraOtGPWIZg', 'id': '7xQAfvXzm3AkraOtGPWIZg', 'is_local': False, 'name': 'Wow.', 'popularity': 81, 'preview_url': None, 'track_number': 17, 'type': 'track', 'uri': 'spotify:track:7xQAfvXzm3AkraOtGPWIZg'}, 'played_at': '2022-10-06T04:24:17.638Z', 'context': {'type': 'album', 'external_urls': {'spotify': 'https://open.spotify.com/album/6sjdohc8ouX9jHxIyqi6mi/play_button'}, 'href': 'https://api.spotify.com/v1/albums/6sjdohc8ouX9jHxIyqi6mi', 'uri': 'spotify:album:6sjdohc8ouX9jHxIyqi6mi'}}], 'next': 'https://api.spotify.com/v1/me/player/recently-played?before=1665030257638', 'cursors': {'after': '1667460662291', 'before': '1665030257638'}, 'limit': 20, 'href': 'https://api.spotify.com/v1/me/player/recently-played'}\n"
          ]
        }
      ]
    },
    {
      "cell_type": "code",
      "source": [
        "song_names = []\n",
        "artist_names = []\n",
        "played_at_list = []\n",
        "timestamps = []"
      ],
      "metadata": {
        "id": "sazRzzzRfhR3"
      },
      "execution_count": null,
      "outputs": []
    },
    {
      "cell_type": "code",
      "source": [
        "for song in data[\"items\"]:\n",
        "  song_names.append(song[\"track\"][\"name\"])\n",
        "  #artist_names.append(song[\"track\"][\"album\"][\"artist\"][0][\"name\"])\n",
        "  artist_names.append(song[\"track\"][\"album\"][\"artists\"][0][\"name\"])\n",
        "  played_at_list.append(song[\"played_at\"])\n",
        "  timestamps.append(song[\"played_at\"][0:10])\n",
        "\n",
        "  song_dict = {\n",
        "      \"song_name\" : song_names,\n",
        "      \"artist_name\" : artist_names,\n",
        "      \"played_at\" : played_at_list,\n",
        "      \"timestamp\": timestamps\n",
        "  }\n",
        "\n",
        "  song_df = pd.DataFrame(song_dict, columns = [\"song_name\", \"artist_name\", \"played_at\", \"timestamp\"])\n",
        "\n",
        "  print(song_df)"
      ],
      "metadata": {
        "colab": {
          "base_uri": "https://localhost:8080/",
          "height": 380
        },
        "id": "Mvoj10eyfkdf",
        "outputId": "e9bfae92-df55-4c1b-a7d1-0985801fbc3b"
      },
      "execution_count": null,
      "outputs": [
        {
          "output_type": "error",
          "ename": "ValueError",
          "evalue": "ignored",
          "traceback": [
            "\u001b[0;31m---------------------------------------------------------------------------\u001b[0m",
            "\u001b[0;31mValueError\u001b[0m                                Traceback (most recent call last)",
            "\u001b[0;32m<ipython-input-18-7905fc5b6d7a>\u001b[0m in \u001b[0;36m<module>\u001b[0;34m\u001b[0m\n\u001b[1;32m     13\u001b[0m   }\n\u001b[1;32m     14\u001b[0m \u001b[0;34m\u001b[0m\u001b[0m\n\u001b[0;32m---> 15\u001b[0;31m   \u001b[0msong_df\u001b[0m \u001b[0;34m=\u001b[0m \u001b[0mpd\u001b[0m\u001b[0;34m.\u001b[0m\u001b[0mDataFrame\u001b[0m\u001b[0;34m(\u001b[0m\u001b[0msong_dict\u001b[0m\u001b[0;34m,\u001b[0m \u001b[0mcolumns\u001b[0m \u001b[0;34m=\u001b[0m \u001b[0;34m[\u001b[0m\u001b[0;34m\"song_name\"\u001b[0m\u001b[0;34m,\u001b[0m \u001b[0;34m\"artist_name\"\u001b[0m\u001b[0;34m,\u001b[0m \u001b[0;34m\"played_at\"\u001b[0m\u001b[0;34m,\u001b[0m \u001b[0;34m\"timestamp\"\u001b[0m\u001b[0;34m]\u001b[0m\u001b[0;34m)\u001b[0m\u001b[0;34m\u001b[0m\u001b[0;34m\u001b[0m\u001b[0m\n\u001b[0m\u001b[1;32m     16\u001b[0m \u001b[0;34m\u001b[0m\u001b[0m\n\u001b[1;32m     17\u001b[0m   \u001b[0mprint\u001b[0m\u001b[0;34m(\u001b[0m\u001b[0msong_df\u001b[0m\u001b[0;34m)\u001b[0m\u001b[0;34m\u001b[0m\u001b[0;34m\u001b[0m\u001b[0m\n",
            "\u001b[0;32m/usr/local/lib/python3.7/dist-packages/pandas/core/frame.py\u001b[0m in \u001b[0;36m__init__\u001b[0;34m(self, data, index, columns, dtype, copy)\u001b[0m\n\u001b[1;32m    612\u001b[0m         \u001b[0;32melif\u001b[0m \u001b[0misinstance\u001b[0m\u001b[0;34m(\u001b[0m\u001b[0mdata\u001b[0m\u001b[0;34m,\u001b[0m \u001b[0mdict\u001b[0m\u001b[0;34m)\u001b[0m\u001b[0;34m:\u001b[0m\u001b[0;34m\u001b[0m\u001b[0;34m\u001b[0m\u001b[0m\n\u001b[1;32m    613\u001b[0m             \u001b[0;31m# GH#38939 de facto copy defaults to False only in non-dict cases\u001b[0m\u001b[0;34m\u001b[0m\u001b[0;34m\u001b[0m\u001b[0;34m\u001b[0m\u001b[0m\n\u001b[0;32m--> 614\u001b[0;31m             \u001b[0mmgr\u001b[0m \u001b[0;34m=\u001b[0m \u001b[0mdict_to_mgr\u001b[0m\u001b[0;34m(\u001b[0m\u001b[0mdata\u001b[0m\u001b[0;34m,\u001b[0m \u001b[0mindex\u001b[0m\u001b[0;34m,\u001b[0m \u001b[0mcolumns\u001b[0m\u001b[0;34m,\u001b[0m \u001b[0mdtype\u001b[0m\u001b[0;34m=\u001b[0m\u001b[0mdtype\u001b[0m\u001b[0;34m,\u001b[0m \u001b[0mcopy\u001b[0m\u001b[0;34m=\u001b[0m\u001b[0mcopy\u001b[0m\u001b[0;34m,\u001b[0m \u001b[0mtyp\u001b[0m\u001b[0;34m=\u001b[0m\u001b[0mmanager\u001b[0m\u001b[0;34m)\u001b[0m\u001b[0;34m\u001b[0m\u001b[0;34m\u001b[0m\u001b[0m\n\u001b[0m\u001b[1;32m    615\u001b[0m         \u001b[0;32melif\u001b[0m \u001b[0misinstance\u001b[0m\u001b[0;34m(\u001b[0m\u001b[0mdata\u001b[0m\u001b[0;34m,\u001b[0m \u001b[0mma\u001b[0m\u001b[0;34m.\u001b[0m\u001b[0mMaskedArray\u001b[0m\u001b[0;34m)\u001b[0m\u001b[0;34m:\u001b[0m\u001b[0;34m\u001b[0m\u001b[0;34m\u001b[0m\u001b[0m\n\u001b[1;32m    616\u001b[0m             \u001b[0;32mimport\u001b[0m \u001b[0mnumpy\u001b[0m\u001b[0;34m.\u001b[0m\u001b[0mma\u001b[0m\u001b[0;34m.\u001b[0m\u001b[0mmrecords\u001b[0m \u001b[0;32mas\u001b[0m \u001b[0mmrecords\u001b[0m\u001b[0;34m\u001b[0m\u001b[0;34m\u001b[0m\u001b[0m\n",
            "\u001b[0;32m/usr/local/lib/python3.7/dist-packages/pandas/core/internals/construction.py\u001b[0m in \u001b[0;36mdict_to_mgr\u001b[0;34m(data, index, columns, dtype, typ, copy)\u001b[0m\n\u001b[1;32m    420\u001b[0m             \u001b[0;31m# GH10856\u001b[0m\u001b[0;34m\u001b[0m\u001b[0;34m\u001b[0m\u001b[0;34m\u001b[0m\u001b[0m\n\u001b[1;32m    421\u001b[0m             \u001b[0;31m# raise ValueError if only scalars in dict\u001b[0m\u001b[0;34m\u001b[0m\u001b[0;34m\u001b[0m\u001b[0;34m\u001b[0m\u001b[0m\n\u001b[0;32m--> 422\u001b[0;31m             \u001b[0mindex\u001b[0m \u001b[0;34m=\u001b[0m \u001b[0m_extract_index\u001b[0m\u001b[0;34m(\u001b[0m\u001b[0marrays\u001b[0m\u001b[0;34m[\u001b[0m\u001b[0;34m~\u001b[0m\u001b[0mmissing\u001b[0m\u001b[0;34m]\u001b[0m\u001b[0;34m)\u001b[0m\u001b[0;34m\u001b[0m\u001b[0;34m\u001b[0m\u001b[0m\n\u001b[0m\u001b[1;32m    423\u001b[0m         \u001b[0;32melse\u001b[0m\u001b[0;34m:\u001b[0m\u001b[0;34m\u001b[0m\u001b[0;34m\u001b[0m\u001b[0m\n\u001b[1;32m    424\u001b[0m             \u001b[0mindex\u001b[0m \u001b[0;34m=\u001b[0m \u001b[0mensure_index\u001b[0m\u001b[0;34m(\u001b[0m\u001b[0mindex\u001b[0m\u001b[0;34m)\u001b[0m\u001b[0;34m\u001b[0m\u001b[0;34m\u001b[0m\u001b[0m\n",
            "\u001b[0;32m/usr/local/lib/python3.7/dist-packages/pandas/core/internals/construction.py\u001b[0m in \u001b[0;36m_extract_index\u001b[0;34m(data)\u001b[0m\n\u001b[1;32m    633\u001b[0m             \u001b[0mlengths\u001b[0m \u001b[0;34m=\u001b[0m \u001b[0mlist\u001b[0m\u001b[0;34m(\u001b[0m\u001b[0mset\u001b[0m\u001b[0;34m(\u001b[0m\u001b[0mraw_lengths\u001b[0m\u001b[0;34m)\u001b[0m\u001b[0;34m)\u001b[0m\u001b[0;34m\u001b[0m\u001b[0;34m\u001b[0m\u001b[0m\n\u001b[1;32m    634\u001b[0m             \u001b[0;32mif\u001b[0m \u001b[0mlen\u001b[0m\u001b[0;34m(\u001b[0m\u001b[0mlengths\u001b[0m\u001b[0;34m)\u001b[0m \u001b[0;34m>\u001b[0m \u001b[0;36m1\u001b[0m\u001b[0;34m:\u001b[0m\u001b[0;34m\u001b[0m\u001b[0;34m\u001b[0m\u001b[0m\n\u001b[0;32m--> 635\u001b[0;31m                 \u001b[0;32mraise\u001b[0m \u001b[0mValueError\u001b[0m\u001b[0;34m(\u001b[0m\u001b[0;34m\"All arrays must be of the same length\"\u001b[0m\u001b[0;34m)\u001b[0m\u001b[0;34m\u001b[0m\u001b[0;34m\u001b[0m\u001b[0m\n\u001b[0m\u001b[1;32m    636\u001b[0m \u001b[0;34m\u001b[0m\u001b[0m\n\u001b[1;32m    637\u001b[0m             \u001b[0;32mif\u001b[0m \u001b[0mhave_dicts\u001b[0m\u001b[0;34m:\u001b[0m\u001b[0;34m\u001b[0m\u001b[0;34m\u001b[0m\u001b[0m\n",
            "\u001b[0;31mValueError\u001b[0m: All arrays must be of the same length"
          ]
        }
      ]
    }
  ]
}